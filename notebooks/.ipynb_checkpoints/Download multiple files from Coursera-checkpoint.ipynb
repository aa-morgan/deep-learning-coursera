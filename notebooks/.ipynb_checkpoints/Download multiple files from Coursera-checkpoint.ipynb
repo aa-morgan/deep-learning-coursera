{
 "cells": [
  {
   "cell_type": "code",
   "execution_count": null,
   "metadata": {
    "collapsed": true
   },
   "outputs": [],
   "source": [
    "from IPython.core.display import display, HTML\n",
    "import os\n",
    "for i, filename in enumerate(os.listdir()):\n",
    "    if (filename[-4:] == \".csv\"):\n",
    "        print(filename)\n",
    "        html = '<iframe width=\"1\" height=\"1\" frameborder=\"0\" src=\"{filename}\"></iframe>'\n",
    "        display( HTML( html.format(filename=filename) ) )"
   ]
  },
  {
   "cell_type": "code",
   "execution_count": null,
   "metadata": {
    "collapsed": true
   },
   "outputs": [],
   "source": [
    "from IPython.core.display import display, HTML\n",
    "import os\n",
    "from shutil import copyfile\n",
    "for i, filename_old in enumerate(os.listdir()):\n",
    "    if (filename_old[-4:] == \".jpg\"):\n",
    "        print(filename_old)\n",
    "        filetype = filename_old[-4:]\n",
    "        filebody = filename_old[:-4]\n",
    "        filename_new = filebody+'.csv'\n",
    "        copyfile(filename_old, filename_new)\n",
    "        html = '<iframe width=\"1\" height=\"1\" frameborder=\"0\" src=\"{filename}\"></iframe>'\n",
    "        display( HTML(html.format(filename=filename_new)) )\n",
    "        #os.remove(filename_new)"
   ]
  },
  {
   "cell_type": "code",
   "execution_count": null,
   "metadata": {
    "collapsed": true
   },
   "outputs": [],
   "source": [
    "import os\n",
    "for i, filename in enumerate(os.listdir()):\n",
    "    if (filename[-4:] == \".csv\"):\n",
    "        filename_new = filename[:-4]+'.jpg'\n",
    "        os.rename(filename, filename_new)"
   ]
  }
 ],
 "metadata": {
  "kernelspec": {
   "display_name": "Python 3",
   "language": "python",
   "name": "python3"
  },
  "language_info": {
   "codemirror_mode": {
    "name": "ipython",
    "version": 3
   },
   "file_extension": ".py",
   "mimetype": "text/x-python",
   "name": "python",
   "nbconvert_exporter": "python",
   "pygments_lexer": "ipython3",
   "version": "3.6.1"
  }
 },
 "nbformat": 4,
 "nbformat_minor": 2
}
